{
  "cells": [
    {
      "cell_type": "markdown",
      "metadata": {
        "id": "view-in-github",
        "colab_type": "text"
      },
      "source": [
        "<a href=\"https://colab.research.google.com/github/nimraash/firstweb/blob/main/Untitled7.ipynb\" target=\"_parent\"><img src=\"https://colab.research.google.com/assets/colab-badge.svg\" alt=\"Open In Colab\"/></a>"
      ]
    },
    {
      "cell_type": "markdown",
      "metadata": {
        "id": "LzquQKhKXCdG"
      },
      "source": [
        "# guess the nbr game"
      ]
    },
    {
      "cell_type": "code",
      "execution_count": null,
      "metadata": {
        "id": "jQAzu0gCctUG"
      },
      "outputs": [],
      "source": []
    },
    {
      "cell_type": "code",
      "execution_count": null,
      "metadata": {
        "colab": {
          "background_save": true,
          "base_uri": "https://localhost:8080/"
        },
        "id": "1Ud-mxz3cyzW",
        "outputId": "fd9a0493-9b69-4eb4-b9b9-f8b56fb9ad97"
      },
      "outputs": [
        {
          "name": "stdout",
          "output_type": "stream",
          "text": [
            "Welcome to the Guess the Number game!\n",
            "I am thinking a number between 1 and 100 \n",
            "\n",
            "You have 7 guesses left. \n",
            "Too low number . Tell another!\n",
            "\n",
            "You have 6 guesses left. \n"
          ]
        }
      ],
      "source": [
        "import random\n",
        "\n",
        "def guess_the_number():\n",
        "    number = random.randint(1, 100)\n",
        "    guesses_left = 7\n",
        "    print(\"Welcome to the Guess the Number game!\")\n",
        "    print(\"I am thinking a number between 1 and 100 \")\n",
        "\n",
        "    while guesses_left > 0:\n",
        "        print(f\"\\nYou have {guesses_left} guesses left. \")\n",
        "        try:\n",
        "            guess = int(input(\"Take a guess of another number:\"))\n",
        "        except ValueError:\n",
        "            print(\"Invalid input:  please enter a number\")\n",
        "            continue\n",
        "        if guess < number:\n",
        "            print(\"Too low number . Tell another!\")\n",
        "        elif guess > number:\n",
        "            print(\"Too high number . Tell another!\")\n",
        "        else:\n",
        "            print(f\"Congratulation! you got the correct number in {7 - guesses_left + 1} tries.\")\n",
        "            return\n",
        "        guesses_left -= 1\n",
        "    print(f\"\\nYou ran out of guesses. The correct number was {number}\")\n",
        "\n",
        "\n",
        "guess_the_number()"
      ]
    }
  ],
  "metadata": {
    "colab": {
      "provenance": [],
      "authorship_tag": "ABX9TyM9gDqBFC7yZjt4TWSUqfew",
      "include_colab_link": true
    },
    "kernelspec": {
      "display_name": "Python 3",
      "name": "python3"
    },
    "language_info": {
      "name": "python"
    }
  },
  "nbformat": 4,
  "nbformat_minor": 0
}