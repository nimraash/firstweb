{
  "nbformat": 4,
  "nbformat_minor": 0,
  "metadata": {
    "colab": {
      "provenance": [],
      "authorship_tag": "ABX9TyM3WDdGSrm6AnpLOT/dUVWC",
      "include_colab_link": true
    },
    "kernelspec": {
      "name": "python3",
      "display_name": "Python 3"
    },
    "language_info": {
      "name": "python"
    }
  },
  "cells": [
    {
      "cell_type": "markdown",
      "metadata": {
        "id": "view-in-github",
        "colab_type": "text"
      },
      "source": [
        "<a href=\"https://colab.research.google.com/github/nimraash/firstweb/blob/main/Untitled6.ipynb\" target=\"_parent\"><img src=\"https://colab.research.google.com/assets/colab-badge.svg\" alt=\"Open In Colab\"/></a>"
      ]
    },
    {
      "cell_type": "markdown",
      "source": [
        "# **mad lib python project**"
      ],
      "metadata": {
        "id": "8h5hDmNQR_zs"
      }
    },
    {
      "cell_type": "code",
      "execution_count": null,
      "metadata": {
        "id": "phZiYrqFR9oh"
      },
      "outputs": [],
      "source": [
        "name = input(\"Enter the girl name: \")\n",
        "programming_laanguage = input(\"Enter a programming language (e.g: python . next.js . typescript . html): \")\n",
        "mentor = input(\"Enter the mentor name:\")\n",
        "\n",
        "print(\"\\n Here is my little story based on mad libs game!\")\n",
        "print(f\"once upon a time, there was a girl named {name}.\")\n",
        "print(f\"{name} was very curious and always want to learn new things\")\n",
        "print(f\"One day, she decided to learn {programming_laanguage} language at governor house!\")\n",
        "print(f\"luckily {name} found a great mentor name as {mentor} who was an expert in {programming_laanguage}.\")\n",
        "print(\"Ans so , her journey continuous......!\")"
      ]
    }
  ]
}