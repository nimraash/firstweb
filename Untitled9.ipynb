{
  "nbformat": 4,
  "nbformat_minor": 0,
  "metadata": {
    "colab": {
      "provenance": [],
      "authorship_tag": "ABX9TyOERYtOx80ShiUSuYKhdYg8",
      "include_colab_link": true
    },
    "kernelspec": {
      "name": "python3",
      "display_name": "Python 3"
    },
    "language_info": {
      "name": "python"
    }
  },
  "cells": [
    {
      "cell_type": "markdown",
      "metadata": {
        "id": "view-in-github",
        "colab_type": "text"
      },
      "source": [
        "<a href=\"https://colab.research.google.com/github/nimraash/firstweb/blob/main/Untitled9.ipynb\" target=\"_parent\"><img src=\"https://colab.research.google.com/assets/colab-badge.svg\" alt=\"Open In Colab\"/></a>"
      ]
    },
    {
      "cell_type": "markdown",
      "source": [
        "# Rock,Paper,Scissor Game"
      ],
      "metadata": {
        "id": "WNt8cTbfgVR_"
      }
    },
    {
      "cell_type": "code",
      "source": [
        "\n",
        "import random\n",
        "choices = [\"rock\" , \"paper\" , \"scissor\"]\n",
        "\n",
        "player_choice = input(\"Enter rock , paper , or scissor: \").lower()\n",
        "\n",
        "computer_choice =random.choice(choices)\n",
        "\n",
        "if player_choice == computer_choice:\n",
        "  print(f\"dono ka choice {player_choice} tha . Its a tie!\")\n",
        "\n",
        "elif player_choice == \"rock\" and computer_choice == \"scissor\":\n",
        "  print(f\"player wins! {player_choice} beats {computer_choice}\")\n",
        "\n",
        "\n",
        "elif player_choice == \"paper\" and computer_choice == \"rock\":\n",
        "  print(f\"player wins! {player_choice} beats {computer_choice}\")\n",
        "\n",
        "\n",
        "elif player_choice == \"scissor\" and computer_choice == \"paper\":\n",
        "  print(f\"player wins! {player_choice} beats {computer_choice}\")\n",
        "\n",
        "else:\n",
        "    print(f\"computers wins! {computer_choice} beats {player_choice}.\")\n",
        "\n",
        "\n",
        "\n",
        "\n",
        "\n",
        "\n"
      ],
      "metadata": {
        "id": "ZpAMJGwjkqMU"
      },
      "execution_count": null,
      "outputs": []
    }
  ]
}