{
  "nbformat": 4,
  "nbformat_minor": 0,
  "metadata": {
    "colab": {
      "provenance": [],
      "authorship_tag": "ABX9TyMQa8waiRdbJwmj3vxX1dGk",
      "include_colab_link": true
    },
    "kernelspec": {
      "name": "python3",
      "display_name": "Python 3"
    },
    "language_info": {
      "name": "python"
    }
  },
  "cells": [
    {
      "cell_type": "markdown",
      "metadata": {
        "id": "view-in-github",
        "colab_type": "text"
      },
      "source": [
        "<a href=\"https://colab.research.google.com/github/nimraash/firstweb/blob/main/Untitled11.ipynb\" target=\"_parent\"><img src=\"https://colab.research.google.com/assets/colab-badge.svg\" alt=\"Open In Colab\"/></a>"
      ]
    },
    {
      "cell_type": "markdown",
      "source": [
        "Countdown Timer"
      ],
      "metadata": {
        "id": "gVXSBAE8z9-5"
      }
    },
    {
      "cell_type": "code",
      "execution_count": null,
      "metadata": {
        "id": "TbhavrrFxscl"
      },
      "outputs": [],
      "source": [
        "import time\n",
        "def countdown_timer(seconds):\n",
        "    while seconds > 0:\n",
        "        mins, secs = divmod(seconds, 60)\n",
        "        time_format = '{:02d}:{:02d}'.format(mins, secs)\n",
        "        print(time_format, end= '\\r')\n",
        "        time.sleep(1)\n",
        "        seconds -= 1\n",
        "    print(\"00:00 \\n Time's Up!\")\n",
        "\n",
        "total_seconds = int(input(\"Enter time in seconds for countdown: \"))\n",
        "countdown_timer(total_seconds)\n"
      ]
    }
  ]
}