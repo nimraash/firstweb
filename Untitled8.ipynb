{
  "cells": [
    {
      "cell_type": "markdown",
      "metadata": {
        "id": "view-in-github",
        "colab_type": "text"
      },
      "source": [
        "<a href=\"https://colab.research.google.com/github/nimraash/firstweb/blob/main/Untitled8.ipynb\" target=\"_parent\"><img src=\"https://colab.research.google.com/assets/colab-badge.svg\" alt=\"Open In Colab\"/></a>"
      ]
    },
    {
      "cell_type": "markdown",
      "metadata": {
        "id": "d-_L28ytdcZT"
      },
      "source": []
    },
    {
      "cell_type": "markdown",
      "metadata": {
        "id": "BdF2RlT9dkTV"
      },
      "source": [
        "# guess the nbr game (user)"
      ]
    },
    {
      "cell_type": "code",
      "execution_count": null,
      "metadata": {
        "colab": {
          "background_save": true,
          "base_uri": "https://localhost:8080/"
        },
        "id": "8i7FxA6Nf1oH",
        "outputId": "34adb61a-b06a-4c6c-fad3-4d63ff3a4fe6"
      },
      "outputs": [
        {
          "name": "stdout",
          "output_type": "stream",
          "text": [
            "Too Low Number!\n"
          ]
        }
      ],
      "source": [
        "import random\n",
        "\n",
        "number = random.randint(1, 100)\n",
        "\n",
        "while True:\n",
        "  try:\n",
        "    guess = int(input(\"Enter your guess number:\"))  # Get user input and try converting to integer\n",
        "  except ValueError:\n",
        "    print(\"Invalid input. Please enter a number.\")  # Handle ValueError if input is not a number\n",
        "    continue  # Go back to the beginning of the loop\n",
        "\n",
        "  if guess < number:\n",
        "    print(\"Too Low Number!\")\n",
        "  elif guess > number:\n",
        "    print(\"Too High Number!\")\n",
        "  else:\n",
        "    print(\"Congratulation You Got It Right!\")\n",
        "    break"
      ]
    }
  ],
  "metadata": {
    "colab": {
      "provenance": [],
      "authorship_tag": "ABX9TyPbPtSQhEcgQ7PGFdUarSwz",
      "include_colab_link": true
    },
    "kernelspec": {
      "display_name": "Python 3",
      "name": "python3"
    },
    "language_info": {
      "name": "python"
    }
  },
  "nbformat": 4,
  "nbformat_minor": 0
}