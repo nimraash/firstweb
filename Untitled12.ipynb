{
  "nbformat": 4,
  "nbformat_minor": 0,
  "metadata": {
    "colab": {
      "provenance": [],
      "authorship_tag": "ABX9TyPnIpj2KjxUmpa9FSXe3gfr",
      "include_colab_link": true
    },
    "kernelspec": {
      "name": "python3",
      "display_name": "Python 3"
    },
    "language_info": {
      "name": "python"
    }
  },
  "cells": [
    {
      "cell_type": "markdown",
      "metadata": {
        "id": "view-in-github",
        "colab_type": "text"
      },
      "source": [
        "<a href=\"https://colab.research.google.com/github/nimraash/firstweb/blob/main/Untitled12.ipynb\" target=\"_parent\"><img src=\"https://colab.research.google.com/assets/colab-badge.svg\" alt=\"Open In Colab\"/></a>"
      ]
    },
    {
      "cell_type": "markdown",
      "source": [
        "# The hangman game"
      ],
      "metadata": {
        "id": "LA0FFDvd-aXb"
      }
    },
    {
      "cell_type": "code",
      "source": [
        "\n",
        "import random\n",
        "\n",
        "words = ['enum', 'python', 'collab', 'vscode', 'game']\n",
        "word = random.choice(words)\n",
        "guessed_letters = []\n",
        "attempts = 6\n",
        "\n",
        "print(\"Welcome to hangman game project 8\")\n",
        "print(\"_ \" * len(word))\n",
        "\n",
        "while attempts > 0:\n",
        "    guess = input(\"\\nGuess a letter: \").lower()\n",
        "\n",
        "    if len(guess) != 1 or not guess.isalpha():\n",
        "        print(\"Please enter only one alphabet!\")\n",
        "        continue\n",
        "\n",
        "    if guess in guessed_letters:\n",
        "        print(\"You already guessed this letter. Choose another letter.\")\n",
        "        continue\n",
        "\n",
        "    guessed_letters.append(guess)\n",
        "\n",
        "    if guess in word:\n",
        "        print(\"Correct guess!\")\n",
        "    else:\n",
        "        attempts -= 1\n",
        "        print(f\"Wrong guess. {attempts} attempts remaining.\")\n",
        "\n",
        "    displayed_word = \"\".join([letter if letter in guessed_letters else \"_\" for letter in word])\n",
        "    print(displayed_word)\n",
        "\n",
        "    if \"_\" not in displayed_word:\n",
        "        print(f\"Congratulations! You guessed the word: {word}\")\n",
        "        break\n",
        "\n",
        "else:\n",
        "    print(f\"Game over! The word was: {word}\")\n"
      ],
      "metadata": {
        "id": "NBoj6rue9rHv"
      },
      "execution_count": null,
      "outputs": []
    }
  ]
}