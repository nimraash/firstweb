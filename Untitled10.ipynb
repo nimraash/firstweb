{
  "nbformat": 4,
  "nbformat_minor": 0,
  "metadata": {
    "colab": {
      "provenance": [],
      "authorship_tag": "ABX9TyPKn7OPuR1F/TtDC41N3p5C",
      "include_colab_link": true
    },
    "kernelspec": {
      "name": "python3",
      "display_name": "Python 3"
    },
    "language_info": {
      "name": "python"
    }
  },
  "cells": [
    {
      "cell_type": "markdown",
      "metadata": {
        "id": "view-in-github",
        "colab_type": "text"
      },
      "source": [
        "<a href=\"https://colab.research.google.com/github/nimraash/firstweb/blob/main/Untitled10.ipynb\" target=\"_parent\"><img src=\"https://colab.research.google.com/assets/colab-badge.svg\" alt=\"Open In Colab\"/></a>"
      ]
    },
    {
      "cell_type": "markdown",
      "source": [
        "# password generator"
      ],
      "metadata": {
        "id": "ZVemVI5N0YT7"
      }
    },
    {
      "cell_type": "code",
      "source": [
        "import random\n",
        "import string\n",
        "\n",
        "def generated_password(length=12):\n",
        "     characters = string.ascii_letters + string.digits + string.punctuation\n",
        "     password = ''.join(random.choice(characters) for _ in range(length))\n",
        "     return password\n",
        "length = int(input(\"Enter the length of your desired password: \"))\n",
        "password = generated_password(length)\n",
        " print(\"Your Desired Generated password:\" , password)"
      ],
      "metadata": {
        "id": "HE20w24c0dx3"
      },
      "execution_count": null,
      "outputs": []
    }
  ]
}